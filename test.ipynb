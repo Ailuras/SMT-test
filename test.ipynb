{
 "cells": [
  {
   "cell_type": "code",
   "execution_count": 28,
   "metadata": {},
   "outputs": [],
   "source": [
    "\n",
    "import re\n",
    "from sys import prefix\n",
    "import pandas as pd\n",
    "import time\n",
    "import os\n",
    "import shutil\n",
    "from tqdm.notebook import tqdm\n",
    "import matplotlib.pyplot as plt\n",
    "\n",
    "class QF_NRA:\n",
    "    count = 0\n",
    "    index = 0\n",
    "    def __init__(self, init=False, path='../../QF_NRA', solver='z3', execl='charts/base.xlsx'):\n",
    "        self.path = path\n",
    "        self.solver = solver\n",
    "        self.data_path = 'results/' + solver\n",
    "        self.records = pd.read_excel(execl, header=[0], index_col = [0])\n",
    "        if init:\n",
    "            self.records = self.records.drop(index=self.records.index)\n",
    "            self.get_info(path)\n",
    "\n",
    "    def get_info(self, path):\n",
    "        folder_list = os.listdir(path)\n",
    "        for folder in folder_list:\n",
    "            new_path = os.path.join(path, folder)\n",
    "            if os.path.isdir(new_path):\n",
    "                self.get_info(new_path)\n",
    "            else:\n",
    "                with open(new_path) as f:\n",
    "                    vars = 0\n",
    "                    assertions = 0\n",
    "                    status = 'none'\n",
    "                    line = f.readline()\n",
    "                    while line:\n",
    "                        if line[:3] == '(de':\n",
    "                            vars += 1\n",
    "                        elif line[:3] == '(as':\n",
    "                            assertions += 1\n",
    "                        elif line[11:17] == 'status':\n",
    "                            status = line.split(' ')[2][:-2]\n",
    "                        line = f.readline()\n",
    "                    # print(count, \"/\", total,\": \", filename, \"+\", vars, \"+\", assertions)\n",
    "                    self.count += 1\n",
    "                    new_path = new_path[6:].replace('temp/', '')\n",
    "                    category = new_path.split('/')[1]\n",
    "                    # self.records = self.records.concat({'filename': new_path, 'category':category, 'vars':vars, 'assertions':assertions}, ignore_index=True, verify_integrity=True)\n",
    "                    self.records.loc[len(self.records.index)] = [new_path, category, vars, assertions, status, '0', '0']\n",
    "\n",
    "    def arrange(self):\n",
    "        results_list = os.listdir(self.data_path)\n",
    "        # total_num = len(results_list)\n",
    "        index = 0   \n",
    "        for folder in results_list:\n",
    "            index += 1\n",
    "            result_name = 'result_' + str(index)\n",
    "            time_name = 'time_' + str(index)\n",
    "            folder_path = os.path.join(self.data_path, folder)\n",
    "            folder_list = os.listdir(folder_path)\n",
    "            for filename in tqdm(folder_list, desc=folder_path):\n",
    "                with open(os.path.join(folder_path, filename)) as f:\n",
    "                    try:\n",
    "                        if self.data_path == 'results/z3':\n",
    "                            while f.readline():\n",
    "                                result = f.readline()[:-1]\n",
    "                                if result[:3] == 'run':\n",
    "                                    result = 'timeout'\n",
    "                                if result[:3] == 'tac':\n",
    "                                    result = 'timeout'\n",
    "                                    f.readline()\n",
    "                                info = f.readline()[:-1]\n",
    "                                name = info.split(' : ')[0]\n",
    "                                timeout = info.split(' : ')[1][:-4]\n",
    "                                self.records.loc[self.records['filename'] == name, [result_name, time_name]] = [result, float(timeout)]\n",
    "                                if len(self.records.loc[self.records['filename'] == name]) == 0:\n",
    "                                    print(name)\n",
    "                        elif self.data_path == 'results/z3_UD':\n",
    "                            while f.readline():\n",
    "                                result = f.readline()[:-1]\n",
    "                                if result[:3] == 'run':\n",
    "                                    result = 'timeout'\n",
    "                                if result[:3] == 'tac':\n",
    "                                    result = 'timeout'\n",
    "                                    f.readline()\n",
    "                                if result[:3] == './s':\n",
    "                                    result = 'fault'\n",
    "                                info = f.readline()[:-1]\n",
    "                                name = info.split(' : ')[0]\n",
    "                                timeout = info.split(' : ')[1][:-4]\n",
    "                                self.records.loc[self.records['filename'] == name, [result_name, time_name]] = [result, float(timeout)]\n",
    "                                if len(self.records.loc[self.records['filename'] == name]) == 0:\n",
    "                                    print(name)\n",
    "                        elif self.data_path == 'results/cvc5':\n",
    "                            while f.readline():\n",
    "                                info = f.readline()[:-1]\n",
    "                                result = 'timeout'\n",
    "                                while info[:2] != 'QF' and info:\n",
    "                                    result = info[:-1]\n",
    "                                    info = f.readline()\n",
    "                                if result[:3] == 'run':\n",
    "                                    result = 'timeout'\n",
    "                                name = info.split(' : ')[0]\n",
    "                                timeout = info.split(' : ')[1][:-4]\n",
    "                                self.records.loc[self.records['filename'] == name, [result_name, time_name]] = [result, float(timeout)]\n",
    "                        elif self.data_path == 'results/yices2':\n",
    "                            while f.readline():\n",
    "                                result = f.readline()[:-1]\n",
    "                                if result[:3] == 'run':\n",
    "                                    result = 'dump'\n",
    "                                info = f.readline()[:-1]\n",
    "                                name = info.split(' : ')[0]\n",
    "                                timeout = info.split(' : ')[1][:-4]\n",
    "                                self.records.loc[self.records['filename'] == name, [result_name, time_name]] = [result, float(timeout)]\n",
    "                        elif self.data_path == 'results/mathsat5':\n",
    "                            while f.readline():\n",
    "                                result = f.readline()[:-1]\n",
    "                                if result[:3] == './s':\n",
    "                                    result = 'timeout'\n",
    "                                if result[:3] == 'tcm':\n",
    "                                    result = 'timeout'\n",
    "                                    info = f.readline()\n",
    "                                    while info[:3] == 'tcm':\n",
    "                                        info = f.readline()\n",
    "                                if result[:3] == '(er':\n",
    "                                    result = 'not support'\n",
    "                                info = f.readline()[:-1]\n",
    "                                name = info.split(' : ')[0]\n",
    "                                timeout = info.split(' : ')[1][:-4]\n",
    "                                self.records.loc[self.records['filename'] == name, [result_name, time_name]] = [result, float(timeout)]\n",
    "                        elif self.data_path == 'results/smtrat':\n",
    "                            while f.readline():\n",
    "                                result = f.readline()[:-1]\n",
    "                                if result[:3] == './s':\n",
    "                                    result = 'timeout'\n",
    "                                if result[:3] == 'QF_':\n",
    "                                    info = result\n",
    "                                    result = 'none'\n",
    "                                else:\n",
    "                                    info = f.readline()[:-1]\n",
    "                                name = info.split(' : ')[0]\n",
    "                                timeout = info.split(' : ')[1][:-4]\n",
    "                                self.records.loc[self.records['filename'] == name, [result_name, time_name]] = [result, float(timeout)]\n",
    "                                if len(self.records.loc[self.records['filename'] == name]) == 0:\n",
    "                                    print(name)\n",
    "                    except:\n",
    "                        # print(filename, ' ', info, ' ', result)\n",
    "                        pass\n",
    "    \n",
    "    def arrange_mbo(self, res='result', tim='time'):\n",
    "        file_list = os.listdir(self.data_path)\n",
    "        for filename in tqdm(file_list, desc=self.data_path):\n",
    "            with open(os.path.join(self.data_path, filename)) as f:\n",
    "                try:\n",
    "                    while f.readline():\n",
    "                        result = f.readline()[:-1]\n",
    "                        if result[:3] == 'run':\n",
    "                            result = 'dump'\n",
    "                        info = f.readline()\n",
    "                        if info[:2] == '(e':\n",
    "                            result += 'error'\n",
    "                            info = f.readline()\n",
    "                        # QF_NRA/20161105-Sturm-MBO/mbo_E14E26.smt2\n",
    "                        name = 'QF_NRA/20161105-Sturm-MBO/' + info.split(' : ')[0].split('/')[-1]\n",
    "                        timeout = info.split(' : ')[1][:-4]\n",
    "                        self.records.loc[self.records['filename'] == name, [res, tim]] = [result, timeout]\n",
    "                except:\n",
    "                    print(filename, ' ', info)\n",
    "                         \n",
    "    def save_to(self, filename):\n",
    "        self.records.to_excel(filename)\n",
    "    \n",
    "    def show(self):\n",
    "        folder_list = os.listdir(self.path)\n",
    "        count = []\n",
    "        solved = []\n",
    "        dump = []\n",
    "        timeout = []\n",
    "        for folder in folder_list:\n",
    "            count.append(len(self.records[self.records['category'] == folder]))\n",
    "            solved.append(len(self.records[(self.records['category'] == folder) & (self.records['result'].str.contains('sat'))]))\n",
    "            dump.append(len(self.records[(self.records['category'] == folder) & (self.records['result'] == ('dump'))]))\n",
    "            timeout.append(len(self.records[(self.records['category'] == folder) & (self.records['result'] == ('timeout'))]))\n",
    "        plt.figure(figsize=(18, 8))\n",
    "        plt.bar(folder_list, solved, label=\"solved\", color='green')\n",
    "        plt.bar(folder_list, timeout, label=\"timeout\", bottom=solved, color='orange')\n",
    "        bot = [i + j for i, j in zip(solved, timeout)]\n",
    "        plt.bar(folder_list, dump, label=\"dump\", bottom=bot, color='red')\n",
    "        # plt.bar(folder_list, count, label=\"total\", bottom=timeout, color='gray')\n",
    "        plt.legend(fontsize=11, frameon=False, loc='upper center')\n",
    "        plt.xticks(rotation=270)\n",
    "        plt.show()\n",
    "    \n",
    "    def get_timeout(self, source_path='../../QF_NRA', target_path='../../QF_NRA_timeout'):\n",
    "        if not os.path.exists(target_path):\n",
    "            os.makedirs(target_path)\n",
    "        if os.path.exists(target_path):\n",
    "            shutil.rmtree(target_path)\n",
    "        shutil.copytree(source_path, target_path)\n",
    "        print('copy dir finished, begin deleting!')\n",
    "\n",
    "    def delete(self, path, path_prefix, screen='result', screen_result='timeout'):\n",
    "        screen_result = screen_result.split(',')\n",
    "        folder_list = os.listdir(path)\n",
    "        for folder in folder_list:\n",
    "            new_path = os.path.join(path, folder)\n",
    "            if os.path.isdir(new_path):\n",
    "                self.delete(new_path)\n",
    "            else:\n",
    "                name = new_path.replace(path, path_prefix)\n",
    "                # print(name)\n",
    "                flag = True\n",
    "                for result in screen_result:\n",
    "                    if len(self.records[(self.records['filename'] == name) & (self.records[screen] == (result))]) == 1:\n",
    "                        flag = False\n",
    "                        break\n",
    "                if flag:\n",
    "                    os.remove(new_path)\n",
    "                    \n",
    "    def get_number(self, path):\n",
    "        index = 0\n",
    "        folder_list = os.listdir(path)\n",
    "        for folder in folder_list:\n",
    "            new_path = os.path.join(path, folder)\n",
    "            if os.path.isdir(new_path):\n",
    "                index += self.get_number(new_path)\n",
    "            else:\n",
    "                index += 1\n",
    "        return index"
   ]
  },
  {
   "cell_type": "code",
   "execution_count": 29,
   "metadata": {},
   "outputs": [
    {
     "data": {
      "application/vnd.jupyter.widget-view+json": {
       "model_id": "fc6eedd0b48143eb851793e03b4bb82c",
       "version_major": 2,
       "version_minor": 0
      },
      "text/plain": [
       "results/z3_UD/z3_UD_1:   0%|          | 0/125 [00:00<?, ?it/s]"
      ]
     },
     "metadata": {},
     "output_type": "display_data"
    },
    {
     "data": {
      "application/vnd.jupyter.widget-view+json": {
       "model_id": "631c100387e34f82b9382289864b3794",
       "version_major": 2,
       "version_minor": 0
      },
      "text/plain": [
       "results/z3_UD/z3_10:   0%|          | 0/125 [00:00<?, ?it/s]"
      ]
     },
     "metadata": {},
     "output_type": "display_data"
    }
   ],
   "source": [
    "a = QF_NRA(execl='charts/base.xlsx', solver='z3_UD')\n",
    "a.arrange()\n",
    "a.save_to('charts/result_z3_UD.xlsx')"
   ]
  },
  {
   "cell_type": "code",
   "execution_count": null,
   "metadata": {},
   "outputs": [],
   "source": [
    "a = QF_NRA(init=True)\n",
    "a.records\n",
    "a.save_to('charts/base.xlsx')"
   ]
  },
  {
   "cell_type": "code",
   "execution_count": null,
   "metadata": {},
   "outputs": [],
   "source": [
    "a = QF_NRA(execl='charts/base.xlsx')\n",
    "a.arrange()\n",
    "a.save_to('charts/result_z3.xlsx')"
   ]
  },
  {
   "cell_type": "code",
   "execution_count": null,
   "metadata": {},
   "outputs": [],
   "source": [
    "a = QF_NRA(execl='charts/base.xlsx', solver='cvc5')\n",
    "a.arrange()\n",
    "a.save_to('charts/result_cvc5.xlsx')"
   ]
  },
  {
   "cell_type": "code",
   "execution_count": null,
   "metadata": {},
   "outputs": [],
   "source": [
    "a = QF_NRA(execl='charts/base.xlsx', solver='smtrat')\n",
    "a.arrange()\n",
    "a.save_to('charts/result_smtrat.xlsx')"
   ]
  },
  {
   "cell_type": "code",
   "execution_count": 7,
   "metadata": {},
   "outputs": [
    {
     "data": {
      "application/vnd.jupyter.widget-view+json": {
       "model_id": "3f179d15d9c049b88a1565f0de7d0f7b",
       "version_major": 2,
       "version_minor": 0
      },
      "text/plain": [
       "results/mathsat5/mathsat5_8:   0%|          | 0/125 [00:00<?, ?it/s]"
      ]
     },
     "metadata": {},
     "output_type": "display_data"
    },
    {
     "data": {
      "application/vnd.jupyter.widget-view+json": {
       "model_id": "4b5c3b76984549ab81209d1f299ea5de",
       "version_major": 2,
       "version_minor": 0
      },
      "text/plain": [
       "results/mathsat5/mathsat5_6:   0%|          | 0/125 [00:00<?, ?it/s]"
      ]
     },
     "metadata": {},
     "output_type": "display_data"
    },
    {
     "data": {
      "application/vnd.jupyter.widget-view+json": {
       "model_id": "19589726a25b4cc9a0047afa2172dded",
       "version_major": 2,
       "version_minor": 0
      },
      "text/plain": [
       "results/mathsat5/mathsat5_10:   0%|          | 0/125 [00:00<?, ?it/s]"
      ]
     },
     "metadata": {},
     "output_type": "display_data"
    },
    {
     "name": "stdout",
     "output_type": "stream",
     "text": [
      "result_10.log      \n"
     ]
    },
    {
     "data": {
      "application/vnd.jupyter.widget-view+json": {
       "model_id": "41b6aaf0514645808a61a0fbe96f8009",
       "version_major": 2,
       "version_minor": 0
      },
      "text/plain": [
       "results/mathsat5/mathsat5_2:   0%|          | 0/125 [00:00<?, ?it/s]"
      ]
     },
     "metadata": {},
     "output_type": "display_data"
    },
    {
     "data": {
      "application/vnd.jupyter.widget-view+json": {
       "model_id": "8f76bb963b4644a7851db086c7067cdd",
       "version_major": 2,
       "version_minor": 0
      },
      "text/plain": [
       "results/mathsat5/mathsat5_4:   0%|          | 0/125 [00:00<?, ?it/s]"
      ]
     },
     "metadata": {},
     "output_type": "display_data"
    },
    {
     "data": {
      "application/vnd.jupyter.widget-view+json": {
       "model_id": "0f81365a2b3040a69fef45bcffb65452",
       "version_major": 2,
       "version_minor": 0
      },
      "text/plain": [
       "results/mathsat5/mathsat5_9:   0%|          | 0/125 [00:00<?, ?it/s]"
      ]
     },
     "metadata": {},
     "output_type": "display_data"
    },
    {
     "name": "stdout",
     "output_type": "stream",
     "text": [
      "result_10.log      \n"
     ]
    },
    {
     "data": {
      "application/vnd.jupyter.widget-view+json": {
       "model_id": "2de30208a8634489bd36b14bf69f69e4",
       "version_major": 2,
       "version_minor": 0
      },
      "text/plain": [
       "results/mathsat5/mathsat5_5:   0%|          | 0/125 [00:00<?, ?it/s]"
      ]
     },
     "metadata": {},
     "output_type": "display_data"
    },
    {
     "data": {
      "application/vnd.jupyter.widget-view+json": {
       "model_id": "2e2714d67659408f8facc2e8e8e78e71",
       "version_major": 2,
       "version_minor": 0
      },
      "text/plain": [
       "results/mathsat5/mathsat5_1:   0%|          | 0/125 [00:00<?, ?it/s]"
      ]
     },
     "metadata": {},
     "output_type": "display_data"
    },
    {
     "name": "stdout",
     "output_type": "stream",
     "text": [
      "result_121.log   --------------------------------------------------\n",
      "   QF_NRA/meti-tarski/sqrt/problem/13/sqrt-problem-13-chunk-0013.smt2 : 9 ms.\n",
      "result_93.log   --------------------------------------------------\n",
      "   QF_NRA/meti-tarski/polypaver/bench-sqrt-3d/polypaver-bench-sqrt-3d-chunk-0338.smt2 : 8 ms.\n",
      "result_102.log   --------------------------------------------------\n",
      "   QF_NRA/meti-tarski/sin/cos/sin-cos-346-b-chunk-0010.smt2 : 10 ms.\n",
      "result_83.log   --------------------------------------------------\n",
      "   QF_NRA/meti-tarski/exp/problem/10/2/exp-problem-10-2-chunk-0218.smt2 : 10 ms.\n",
      "result_66.log   --------------------------------------------------\n",
      "   QF_NRA/meti-tarski/Chua/1/VC2/L/Chua-1-VC2-L-chunk-0017.smt2 : 10 ms.\n",
      "result_61.log   --------------------------------------------------\n",
      "   QF_NRA/meti-tarski/cbrt/3/weak/cbrt-problem-3-weak-chunk-0021.smt2 : 11 ms.\n",
      "result_112.log   --------------------------------------------------\n",
      "   QF_NRA/meti-tarski/sqrt/1mcosq/7/sqrt-1mcosq-7-chunk-0017.smt2 : 9 ms.\n",
      "result_56.log   --------------------------------------------------\n",
      "   QF_NRA/meti-tarski/atan/vega/3/weak/atan-vega-3-weak-chunk-0018.smt2 : 8 ms.\n",
      "result_76.log   --------------------------------------------------\n",
      "   QF_NRA/meti-tarski/CONVOI2/CONVOI2-chunk-0010.smt2 : 9 ms.\n",
      "result_89.log   --------------------------------------------------\n",
      "   QF_NRA/meti-tarski/Lyapunov/Lyapunov1a-chunk-0002.smt2 : 10 ms.\n",
      "result_91.log   --------------------------------------------------\n",
      "   QF_NRA/meti-tarski/polypaver/bench-exp-3d/polypaver-bench-exp-3d-chunk-0023.smt2 : 10 ms.\n",
      "result_113.log   --------------------------------------------------\n",
      "   QF_NRA/meti-tarski/sqrt/1mcosq/8/sqrt-1mcosq-8-chunk-0014.smt2 : 10 ms.\n",
      "result_58.log   --------------------------------------------------\n",
      "   QF_NRA/meti-tarski/atan/vega/3/weak/atan-vega-3-weak-chunk-0544.smt2 : 9 ms.\n",
      "result_55.log   --------------------------------------------------\n",
      "   QF_NRA/meti-tarski/atan/vega/3/atan-vega-3-chunk-0630.smt2 : 10 ms.\n",
      "result_120.log   --------------------------------------------------\n",
      "   QF_NRA/meti-tarski/sqrt/problem/13/sqrt1/sqrt-problem-13-sqrt1-chunk-0009.smt2 : 10 ms.\n",
      "result_111.log   --------------------------------------------------\n",
      "   QF_NRA/meti-tarski/sin/problem/8/weak/sin-problem-8-weak-chunk-0013.smt2 : 9 ms.\n",
      "result_105.log   --------------------------------------------------\n",
      "   QF_NRA/meti-tarski/sin/problem/10/sin-problem-10-2-chunk-0010.smt2 : 12 ms.\n",
      "result_79.log   --------------------------------------------------\n",
      "   QF_NRA/meti-tarski/cos/problem/5/cos-problem-5-chunk-0018.smt2 : 8 ms.\n",
      "result_75.log   --------------------------------------------------\n",
      "   QF_NRA/meti-tarski/CMOS/CMOS-opamp-chunk-0283.smt2 : 9 ms.\n",
      "result_65.log   --------------------------------------------------\n",
      "   QF_NRA/meti-tarski/Chua/1/VC1/U/Chua-1-VC1-U-chunk-0017.smt2 : 11 ms.\n",
      "result_95.log   --------------------------------------------------\n",
      "   QF_NRA/meti-tarski/polypaver/sqrt43-int/4vars/polypaver-sqrt43-int-4vars-chunk-0023.smt2 : 9 ms.\n",
      "result_68.log   --------------------------------------------------\n",
      "   QF_NRA/meti-tarski/Chua/2/IL/L/Chua-2-IL-L-chunk-0005.smt2 : 8 ms.\n",
      "result_119.log   --------------------------------------------------\n",
      "   QF_NRA/meti-tarski/sqrt/problem/12vars3/sqrt-problem-12vars3-chunk-0010.smt2 : 9 ms.\n",
      "result_94.log   --------------------------------------------------\n",
      "   QF_NRA/meti-tarski/polypaver/sqrt43-int/3vars/polypaver-sqrt43-int-3vars-chunk-0017.smt2 : 10 ms.\n",
      "result_115.log   --------------------------------------------------\n",
      "   QF_NRA/meti-tarski/sqrt/1mcosq/8/sqrt-1mcosq-8-chunk-0462.smt2 : 9 ms.\n",
      "result_104.log   --------------------------------------------------\n",
      "   QF_NRA/meti-tarski/sin/cos/sin-cos-346-b-chunk-0466.smt2 : 11 ms.\n",
      "result_108.log   --------------------------------------------------\n",
      "   QF_NRA/meti-tarski/sin/problem/7/weak/sin-problem-7-weak-chunk-0015.smt2 : 13 ms.\n",
      "result_85.log   --------------------------------------------------\n",
      "   QF_NRA/meti-tarski/exp/problem/10/3/weak/exp-problem-10-3-weak-chunk-0006.smt2 : 10 ms.\n",
      "result_63.log   --------------------------------------------------\n",
      "   QF_NRA/meti-tarski/Chua/1/IL/U/Chua-1-IL-U-chunk-0017.smt2 : 12 ms.\n",
      "result_73.log   --------------------------------------------------\n",
      "   QF_NRA/meti-tarski/Chua/2/VC2/U/Chua-2-VC2-U-chunk-0016.smt2 : 10 ms.\n",
      "result_52.log   --------------------------------------------------\n",
      "   QF_NRA/meti-tarski/atan/vega/3/atan-vega-3-chunk-0008.smt2 : 7 ms.\n",
      "result_53.log   --------------------------------------------------\n",
      "   QF_NRA/meti-tarski/atan/vega/3/atan-vega-3-chunk-0227.smt2 : 8 ms.\n",
      "result_98.log   --------------------------------------------------\n",
      "   QF_NRA/meti-tarski/polypaver/sqrt-circles/2a/polypaver-sqrt-circles-2a-chunk-0014.smt2 : 10 ms.\n",
      "result_64.log   --------------------------------------------------\n",
      "   QF_NRA/meti-tarski/Chua/1/VC1/L/Chua-1-VC1-L-chunk-0017.smt2 : 10 ms.\n",
      "result_109.log   --------------------------------------------------\n",
      "   QF_NRA/meti-tarski/sin/problem/7/weak2/sin-problem-7-weak2-chunk-0015.smt2 : 9 ms.\n",
      "result_49.log   --------------------------------------------------\n",
      "   QF_NRA/meti-tarski/atan/problem/2/weak/atan-problem-2-weak-chunk-0008.smt2 : 9 ms.\n",
      "result_106.log   --------------------------------------------------\n",
      "   QF_NRA/meti-tarski/sin/problem/7/sin-problem-7-chunk-0017.smt2 : 9 ms.\n",
      "result_86.log   --------------------------------------------------\n",
      "   QF_NRA/meti-tarski/exp/problem/10/3/weak/exp-problem-10-3-weak-chunk-0220.smt2 : 9 ms.\n",
      "result_107.log   --------------------------------------------------\n",
      "   QF_NRA/meti-tarski/sin/problem/7/sin-problem-7-chunk-0313.smt2 : 9 ms.\n",
      "result_114.log   --------------------------------------------------\n",
      "   QF_NRA/meti-tarski/sqrt/1mcosq/8/sqrt-1mcosq-8-chunk-0249.smt2 : 9 ms.\n",
      "result_110.log   --------------------------------------------------\n",
      "   QF_NRA/meti-tarski/sin/problem/8/sin-problem-8-chunk-0024.smt2 : 9 ms.\n",
      "result_81.log   --------------------------------------------------\n",
      "   QF_NRA/meti-tarski/exp/361/exp-361-neg-4-e-chunk-0215.smt2 : 9 ms.\n",
      "result_123.log   --------------------------------------------------\n",
      "   QF_NRA/meti-tarski/sqrt/problem/sqrt-problem-Melquiond2-chunk-0010.smt2 : 14 ms.\n",
      "result_59.log   --------------------------------------------------\n",
      "   QF_NRA/meti-tarski/bottom-plate-mixer/bottom-plate-mixer-chunk-0036.smt2 : 10 ms.\n",
      "result_71.log   --------------------------------------------------\n",
      "   QF_NRA/meti-tarski/Chua/2/VC1/U/Chua-2-VC1-U-chunk-0013.smt2 : 9 ms.\n",
      "result_80.log   --------------------------------------------------\n",
      "   QF_NRA/meti-tarski/exp/361/6/exp-361-6-e-chunk-0134.smt2 : 9 ms.\n",
      "result_99.log   --------------------------------------------------\n",
      "   QF_NRA/meti-tarski/RL-high-pass-circuit/RL-high-pass-circuit-gain-chunk-0005.smt2 : 10 ms.\n",
      "result_101.log   --------------------------------------------------\n",
      "   QF_NRA/meti-tarski/sin/344/4/sin-344-4-chunk-0021.smt2 : 10 ms.\n",
      "result_77.log   --------------------------------------------------\n",
      "   QF_NRA/meti-tarski/cos/3410/cos-3410-b-chunk-0012.smt2 : 13 ms.\n",
      "result_69.log   --------------------------------------------------\n",
      "   QF_NRA/meti-tarski/Chua/2/IL/U/Chua-2-IL-U-chunk-0008.smt2 : 9 ms.\n",
      "result_57.log   --------------------------------------------------\n",
      "   QF_NRA/meti-tarski/atan/vega/3/weak/atan-vega-3-weak-chunk-0311.smt2 : 8 ms.\n",
      "result_84.log   --------------------------------------------------\n",
      "   QF_NRA/meti-tarski/exp/problem/10/3/exp-problem-10-3-chunk-0010.smt2 : 11 ms.\n",
      "result_96.log   --------------------------------------------------\n",
      "   QF_NRA/meti-tarski/polypaver/sqrt43-int/polypaver-sqrt43-int-chunk-0047.smt2 : 10 ms.\n",
      "result_60.log   --------------------------------------------------\n",
      "   QF_NRA/meti-tarski/cbrt/3/cbrt-problem-3-chunk-0015.smt2 : 10 ms.\n",
      "result_122.log   --------------------------------------------------\n",
      "   QF_NRA/meti-tarski/sqrt/problem/13/vars5/sqrt-problem-13-vars5-chunk-0015.smt2 : 11 ms.\n",
      "result_92.log   --------------------------------------------------\n",
      "   QF_NRA/meti-tarski/polypaver/bench-sqrt-3d/polypaver-bench-sqrt-3d-chunk-0017.smt2 : 10 ms.\n",
      "result_78.log   --------------------------------------------------\n",
      "   QF_NRA/meti-tarski/cos/problem/12/cos-problem-12-chunk-0004.smt2 : 10 ms.\n",
      "result_62.log   --------------------------------------------------\n",
      "   QF_NRA/meti-tarski/Chua/1/IL/L/Chua-1-IL-L-chunk-0014.smt2 : 10 ms.\n",
      "result_116.log   --------------------------------------------------\n",
      "   QF_NRA/meti-tarski/sqrt/1mcosq/8/sqrt-1mcosq-8-chunk-0695.smt2 : 9 ms.\n",
      "result_87.log      QF_NRA/meti-tarski/heartdipole/heartdipole-chunk-0047.smt2 : 9 ms.\n",
      "result_50.log   --------------------------------------------------\n",
      "   QF_NRA/meti-tarski/atan/problem/2/weak2/atan-problem-2-weak2-chunk-0006.smt2 : 9 ms.\n",
      "result_90.log   --------------------------------------------------\n",
      "   QF_NRA/meti-tarski/Nichols-Plot/Inverted-Pendulum/Nichols-Plot-Inverted-Pendulum-Fails-1-6-chunk-0010.smt2 : 9 ms.\n",
      "result_72.log   --------------------------------------------------\n",
      "   QF_NRA/meti-tarski/Chua/2/VC2/L/Chua-2-VC2-L-chunk-0009.smt2 : 11 ms.\n",
      "result_100.log   --------------------------------------------------\n",
      "   QF_NRA/meti-tarski/sin/344/3/sin-344-3-chunk-0017.smt2 : 12 ms.\n",
      "result_88.log   --------------------------------------------------\n",
      "   QF_NRA/meti-tarski/log/fun-ineq/log-fun-ineq-g-chunk-0030.smt2 : 10 ms.\n",
      "result_70.log   --------------------------------------------------\n",
      "   QF_NRA/meti-tarski/Chua/2/VC1/L/Chua-2-VC1-L-chunk-0021.smt2 : 10 ms.\n",
      "result_118.log   --------------------------------------------------\n",
      "   QF_NRA/meti-tarski/sqrt/circles/3/sqrt-circles-3-chunk-0005.smt2 : 9 ms.\n",
      "result_51.log   --------------------------------------------------\n",
      "   QF_NRA/meti-tarski/atan/problem/2/weakT/atan-problem-2-weakT-chunk-0008.smt2 : 9 ms.\n",
      "result_82.log   --------------------------------------------------\n",
      "   QF_NRA/meti-tarski/exp/problem/10/2/exp-problem-10-2-chunk-0010.smt2 : 14 ms.\n",
      "result_46.log   --------------------------------------------------\n",
      "   QF_NRA/meti-tarski/atan/problem/2/sqrt/atan-problem-2-sqrt-chunk-0008.smt2 : 8 ms.\n",
      "result_117.log   --------------------------------------------------\n",
      "   QF_NRA/meti-tarski/sqrt/circles/2/sqrt-circles-2-chunk-0002.smt2 : 10 ms.\n",
      "result_74.log   --------------------------------------------------\n",
      "   QF_NRA/meti-tarski/CMOS/CMOS-opamp-chunk-0017.smt2 : 8 ms.\n",
      "result_103.log   --------------------------------------------------\n",
      "   QF_NRA/meti-tarski/sin/cos/sin-cos-346-b-chunk-0254.smt2 : 10 ms.\n",
      "result_45.log   --------------------------------------------------\n",
      "   QF_NRA/meti-tarski/atan/problem/1/weak/atan-problem-1-weak-chunk-0010.smt2 : 9 ms.\n",
      "result_47.log   --------------------------------------------------\n",
      "   QF_NRA/meti-tarski/atan/problem/2/sqrt/weak/atan-problem-2-sqrt-weak-chunk-0008.smt2 : 9 ms.\n",
      "result_124.log   --------------------------------------------------\n",
      "   QF_NRA/UltimateAutomizer/InVarSynth_2001TACAS-BallPodelskiRajamani.c_Iteration2_0.smt2 : 10 ms.\n",
      "result_125.log   --------------------------------------------------\n",
      "   QF_NRA/zankl/gen-03.smt2 : 9 ms.\n",
      "result_54.log   --------------------------------------------------\n",
      "   QF_NRA/meti-tarski/atan/vega/3/atan-vega-3-chunk-0430.smt2 : 9 ms.\n",
      "result_48.log   --------------------------------------------------\n",
      "   QF_NRA/meti-tarski/atan/problem/2/atan-problem-2-chunk-0010.smt2 : 12 ms.\n",
      "result_97.log   --------------------------------------------------\n",
      "   QF_NRA/meti-tarski/polypaver/sqrt-circles/1a/polypaver-sqrt-circles-1a-chunk-0009.smt2 : 10 ms.\n",
      "result_67.log   --------------------------------------------------\n",
      "   QF_NRA/meti-tarski/Chua/1/VC2/U/Chua-1-VC2-U-chunk-0017.smt2 : 12 ms.\n"
     ]
    },
    {
     "data": {
      "application/vnd.jupyter.widget-view+json": {
       "model_id": "4813f51d66bc44329ac42103c23c1ad0",
       "version_major": 2,
       "version_minor": 0
      },
      "text/plain": [
       "results/mathsat5/mathsat5_7:   0%|          | 0/125 [00:00<?, ?it/s]"
      ]
     },
     "metadata": {},
     "output_type": "display_data"
    },
    {
     "data": {
      "application/vnd.jupyter.widget-view+json": {
       "model_id": "5a1880f8810a4e24abab3769ea973537",
       "version_major": 2,
       "version_minor": 0
      },
      "text/plain": [
       "results/mathsat5/mathsat5_3:   0%|          | 0/125 [00:00<?, ?it/s]"
      ]
     },
     "metadata": {},
     "output_type": "display_data"
    }
   ],
   "source": [
    "a = QF_NRA(execl='charts/base.xlsx', solver='mathsat5')\n",
    "a.arrange()\n",
    "a.save_to('charts/result_mathsat5.xlsx')"
   ]
  },
  {
   "cell_type": "code",
   "execution_count": null,
   "metadata": {},
   "outputs": [],
   "source": [
    "a = QF_NRA(execl='result_cvc5_3.xlsx', data_path='result_QF_NRA_part_new')\n",
    "a.arrange()\n",
    "a.save_to('result_cvc5_4.xlsx')"
   ]
  },
  {
   "cell_type": "markdown",
   "metadata": {},
   "source": [
    "mbo部分"
   ]
  },
  {
   "cell_type": "code",
   "execution_count": null,
   "metadata": {},
   "outputs": [],
   "source": [
    "a = QF_NRA(execl='base.xlsx', data_path='result_1')\n",
    "a.arrange_mbo()\n",
    "a.save_to('result_mbo_1.xlsx')\n",
    "\n",
    "a = QF_NRA(execl='base.xlsx', data_path='result_2')\n",
    "a.arrange_mbo()\n",
    "a.save_to('result_mbo_2.xlsx')\n",
    "\n",
    "a = QF_NRA(execl='base.xlsx', data_path='result_3')\n",
    "a.arrange_mbo()\n",
    "a.save_to('result_mbo_3.xlsx')"
   ]
  },
  {
   "cell_type": "markdown",
   "metadata": {},
   "source": [
    "附加记录"
   ]
  },
  {
   "cell_type": "code",
   "execution_count": null,
   "metadata": {},
   "outputs": [],
   "source": [
    "a = QF_NRA(execl='result_mbo_4.xlsx', data_path='result_4')\n",
    "a.arrange_mbo(res='4_result', tim='4_time')\n",
    "a.save_to('result_mbo_4.xlsx')\n",
    "\n",
    "a = QF_NRA(execl='result_mbo_4.xlsx', data_path='result_5')\n",
    "a.arrange_mbo(res='5_result', tim='5_time')\n",
    "a.save_to('result_mbo_4.xlsx')\n",
    "\n",
    "a = QF_NRA(execl='result_mbo_4.xlsx', data_path='result_control1')\n",
    "a.arrange_mbo(res='control1_result', tim='control1_time')\n",
    "a.save_to('result_mbo_4.xlsx')\n",
    "\n",
    "a = QF_NRA(execl='result_mbo_4.xlsx', data_path='result_control2')\n",
    "a.arrange_mbo(res='control2_result', tim='control2_time')\n",
    "a.save_to('result_mbo_4.xlsx')"
   ]
  },
  {
   "cell_type": "code",
   "execution_count": null,
   "metadata": {},
   "outputs": [],
   "source": [
    "a = QF_NRA(execl='result_mbo.xlsx', data_path='result')\n",
    "a.arrange()\n",
    "a.save_to('result_mbo_4.xlsx')"
   ]
  },
  {
   "cell_type": "markdown",
   "metadata": {},
   "source": [
    "mbo难解部分"
   ]
  },
  {
   "cell_type": "code",
   "execution_count": null,
   "metadata": {},
   "outputs": [],
   "source": [
    "a = QF_NRA(execl='result_mbo_4.xlsx', data_path='result')\n",
    "a.get_timeout(source_path='../../QF_NRA/20161105-Sturm-MBO', target_path='../../QF_NRA_MBO')\n",
    "a.delete(path='../../QF_NRA_MBO', screen='3_result', screen_result='timeout,unsaterror', path_prefix='QF_NRA/20161105-Sturm-MBO')\n",
    "# a.save_to('result_mbo_4.xlsx')"
   ]
  }
 ],
 "metadata": {
  "kernelspec": {
   "display_name": "Python 3.9.13 ('base')",
   "language": "python",
   "name": "python3"
  },
  "language_info": {
   "codemirror_mode": {
    "name": "ipython",
    "version": 3
   },
   "file_extension": ".py",
   "mimetype": "text/x-python",
   "name": "python",
   "nbconvert_exporter": "python",
   "pygments_lexer": "ipython3",
   "version": "3.9.13"
  },
  "orig_nbformat": 4,
  "vscode": {
   "interpreter": {
    "hash": "30fab6c85a083c1c486b5274d4a62cd0a72d9bbfa1f3f48a032977065912d691"
   }
  }
 },
 "nbformat": 4,
 "nbformat_minor": 2
}
