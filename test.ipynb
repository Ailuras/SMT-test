{
 "cells": [
  {
   "cell_type": "code",
   "execution_count": 2,
   "metadata": {},
   "outputs": [],
   "source": [
    "\n",
    "import re\n",
    "from sys import prefix\n",
    "import pandas as pd\n",
    "import time\n",
    "import os\n",
    "import shutil\n",
    "from tqdm.notebook import tqdm\n",
    "import matplotlib.pyplot as plt\n",
    "\n",
    "class QF_NRA:\n",
    "    count = 0\n",
    "    index = 0\n",
    "    def __init__(self, init=False, path='../../QF_NRA', solver='z3', execl='charts/base.xlsx'):\n",
    "        self.path = path\n",
    "        self.solver = solver\n",
    "        self.data_path = 'results/' + solver\n",
    "        self.records = pd.read_excel(execl, header=[0], index_col = [0])\n",
    "        if init:\n",
    "            self.records = self.records.drop(index=self.records.index)\n",
    "            self.get_info(path)\n",
    "\n",
    "    def get_info(self, path):\n",
    "        folder_list = os.listdir(path)\n",
    "        for folder in folder_list:\n",
    "            new_path = os.path.join(path, folder)\n",
    "            if os.path.isdir(new_path):\n",
    "                self.get_info(new_path)\n",
    "            else:\n",
    "                with open(new_path) as f:\n",
    "                    vars = 0\n",
    "                    assertions = 0\n",
    "                    status = 'none'\n",
    "                    line = f.readline()\n",
    "                    while line:\n",
    "                        if line[:3] == '(de':\n",
    "                            vars += 1\n",
    "                        elif line[:3] == '(as':\n",
    "                            assertions += 1\n",
    "                        elif line[11:17] == 'status':\n",
    "                            status = line.split(' ')[2][:-2]\n",
    "                        line = f.readline()\n",
    "                    # print(count, \"/\", total,\": \", filename, \"+\", vars, \"+\", assertions)\n",
    "                    self.count += 1\n",
    "                    new_path = new_path[6:].replace('temp/', '')\n",
    "                    category = new_path.split('/')[1]\n",
    "                    # self.records = self.records.concat({'filename': new_path, 'category':category, 'vars':vars, 'assertions':assertions}, ignore_index=True, verify_integrity=True)\n",
    "                    self.records.loc[len(self.records.index)] = [new_path, category, vars, assertions, status, '0', '0']\n",
    "\n",
    "    def arrange(self):\n",
    "        results_list = os.listdir(self.data_path)\n",
    "        # total_num = len(results_list)\n",
    "        index = 0   \n",
    "        for folder in results_list:\n",
    "            index += 1\n",
    "            result_name = 'result_' + str(index)\n",
    "            time_name = 'time_' + str(index)\n",
    "            folder_path = os.path.join(self.data_path, folder)\n",
    "            folder_list = os.listdir(folder_path)\n",
    "            for filename in tqdm(folder_list, desc=folder_path):\n",
    "                with open(os.path.join(folder_path, filename)) as f:\n",
    "                    try:\n",
    "                        if self.data_path == 'results/z3':\n",
    "                            while f.readline():\n",
    "                                result = f.readline()[:-1]\n",
    "                                if result[:3] == 'run':\n",
    "                                    result = 'timeout'\n",
    "                                if result[:3] == 'tac':\n",
    "                                    result = 'timeout'\n",
    "                                    f.readline()\n",
    "                                info = f.readline()[:-1]\n",
    "                                name = info.split(' : ')[0]\n",
    "                                timeout = info.split(' : ')[1][:-4]\n",
    "                                self.records.loc[self.records['filename'] == name, [result_name, time_name]] = [result, float(timeout)]\n",
    "                                if len(self.records.loc[self.records['filename'] == name]) == 0:\n",
    "                                    print(name)\n",
    "                        elif self.data_path == 'results/z3_UD':\n",
    "                            while f.readline():\n",
    "                                result = f.readline()[:-1]\n",
    "                                if result[:3] == 'run':\n",
    "                                    result = 'timeout'\n",
    "                                if result[:3] == 'tac':\n",
    "                                    result = 'timeout'\n",
    "                                    f.readline()\n",
    "                                if result[:3] == './s' or result[:3] == '(er':\n",
    "                                    result = 'fault'\n",
    "                                info = f.readline()[:-1]\n",
    "                                name = info.split(' : ')[0]\n",
    "                                timeout = info.split(' : ')[1][:-4]\n",
    "                                self.records.loc[self.records['filename'] == name, [result_name, time_name]] = [result, float(timeout)]\n",
    "                                if len(self.records.loc[self.records['filename'] == name]) == 0:\n",
    "                                    print(name)\n",
    "                        elif self.data_path == 'results/cvc5':\n",
    "                            while f.readline():\n",
    "                                info = f.readline()[:-1]\n",
    "                                result = 'timeout'\n",
    "                                while info[:2] != 'QF' and info:\n",
    "                                    result = info[:-1]\n",
    "                                    info = f.readline()\n",
    "                                if result[:3] == 'run':\n",
    "                                    result = 'timeout'\n",
    "                                name = info.split(' : ')[0]\n",
    "                                timeout = info.split(' : ')[1][:-4]\n",
    "                                self.records.loc[self.records['filename'] == name, [result_name, time_name]] = [result, float(timeout)]\n",
    "                        elif self.data_path == 'results/yices2':\n",
    "                            while f.readline():\n",
    "                                result = f.readline()[:-1]\n",
    "                                if result[:3] == 'QF_':\n",
    "                                    info = result\n",
    "                                    result = 'timeout'\n",
    "                                else:\n",
    "                                    info = f.readline()[:-1]\n",
    "                                name = info.split(' : ')[0]\n",
    "                                timeout = info.split(' : ')[1][:-4]\n",
    "                                self.records.loc[self.records['filename'] == name, [result_name, time_name]] = [result, float(timeout)]\n",
    "                        elif self.data_path == 'results/mathsat5':\n",
    "                            while f.readline():\n",
    "                                result = f.readline()[:-1]\n",
    "                                if result[:3] == './s':\n",
    "                                    result = 'timeout'\n",
    "                                if result[:3] == 'tcm':\n",
    "                                    result = 'timeout'\n",
    "                                    info = f.readline()\n",
    "                                    while info[:3] == 'tcm':\n",
    "                                        info = f.readline()\n",
    "                                if result[:3] == '(er':\n",
    "                                    result = 'not support'\n",
    "                                info = f.readline()[:-1]\n",
    "                                name = info.split(' : ')[0]\n",
    "                                timeout = info.split(' : ')[1][:-4]\n",
    "                                self.records.loc[self.records['filename'] == name, [result_name, time_name]] = [result, float(timeout)]\n",
    "                        elif self.data_path == 'results/smtrat':\n",
    "                            while f.readline():\n",
    "                                result = f.readline()[:-1]\n",
    "                                if result[:3] == './s':\n",
    "                                    result = 'timeout'\n",
    "                                if result[:3] == 'QF_':\n",
    "                                    info = result\n",
    "                                    result = 'none'\n",
    "                                else:\n",
    "                                    info = f.readline()[:-1]\n",
    "                                name = info.split(' : ')[0]\n",
    "                                timeout = info.split(' : ')[1][:-4]\n",
    "                                self.records.loc[self.records['filename'] == name, [result_name, time_name]] = [result, float(timeout)]\n",
    "                    except:\n",
    "                        # print(filename, ' ', info, ' ', result)\n",
    "                        pass\n",
    "    \n",
    "    def arrange_mbo(self, res='result', tim='time'):\n",
    "        file_list = os.listdir(self.data_path)\n",
    "        for filename in tqdm(file_list, desc=self.data_path):\n",
    "            with open(os.path.join(self.data_path, filename)) as f:\n",
    "                try:\n",
    "                    while f.readline():\n",
    "                        result = f.readline()[:-1]\n",
    "                        if result[:3] == 'run':\n",
    "                            result = 'dump'\n",
    "                        info = f.readline()\n",
    "                        if info[:2] == '(e':\n",
    "                            result += 'error'\n",
    "                            info = f.readline()\n",
    "                        # QF_NRA/20161105-Sturm-MBO/mbo_E14E26.smt2\n",
    "                        name = 'QF_NRA/20161105-Sturm-MBO/' + info.split(' : ')[0].split('/')[-1]\n",
    "                        timeout = info.split(' : ')[1][:-4]\n",
    "                        self.records.loc[self.records['filename'] == name, [res, tim]] = [result, timeout]\n",
    "                except:\n",
    "                    print(filename, ' ', info)\n",
    "                         \n",
    "    def save_to(self, filename):\n",
    "        self.records.to_excel(filename)\n",
    "    \n",
    "    def show(self):\n",
    "        folder_list = os.listdir(self.path)\n",
    "        count = []\n",
    "        solved = []\n",
    "        dump = []\n",
    "        timeout = []\n",
    "        for folder in folder_list:\n",
    "            count.append(len(self.records[self.records['category'] == folder]))\n",
    "            solved.append(len(self.records[(self.records['category'] == folder) & (self.records['result'].str.contains('sat'))]))\n",
    "            dump.append(len(self.records[(self.records['category'] == folder) & (self.records['result'] == ('dump'))]))\n",
    "            timeout.append(len(self.records[(self.records['category'] == folder) & (self.records['result'] == ('timeout'))]))\n",
    "        plt.figure(figsize=(18, 8))\n",
    "        plt.bar(folder_list, solved, label=\"solved\", color='green')\n",
    "        plt.bar(folder_list, timeout, label=\"timeout\", bottom=solved, color='orange')\n",
    "        bot = [i + j for i, j in zip(solved, timeout)]\n",
    "        plt.bar(folder_list, dump, label=\"dump\", bottom=bot, color='red')\n",
    "        # plt.bar(folder_list, count, label=\"total\", bottom=timeout, color='gray')\n",
    "        plt.legend(fontsize=11, frameon=False, loc='upper center')\n",
    "        plt.xticks(rotation=270)\n",
    "        plt.show()\n",
    "    \n",
    "    def get_timeout(self, source_path='../../QF_NRA', target_path='../../QF_NRA_timeout'):\n",
    "        if not os.path.exists(target_path):\n",
    "            os.makedirs(target_path)\n",
    "        if os.path.exists(target_path):\n",
    "            shutil.rmtree(target_path)\n",
    "        shutil.copytree(source_path, target_path)\n",
    "        print('copy dir finished, begin deleting!')\n",
    "\n",
    "    def delete(self, path, path_prefix, screen='result', screen_result='timeout'):\n",
    "        screen_result = screen_result.split(',')\n",
    "        folder_list = os.listdir(path)\n",
    "        for folder in folder_list:\n",
    "            new_path = os.path.join(path, folder)\n",
    "            if os.path.isdir(new_path):\n",
    "                self.delete(new_path)\n",
    "            else:\n",
    "                name = new_path.replace(path, path_prefix)\n",
    "                # print(name)\n",
    "                flag = True\n",
    "                for result in screen_result:\n",
    "                    if len(self.records[(self.records['filename'] == name) & (self.records[screen] == (result))]) == 1:\n",
    "                        flag = False\n",
    "                        break\n",
    "                if flag:\n",
    "                    os.remove(new_path)\n",
    "                    \n",
    "    def get_number(self, path):\n",
    "        index = 0\n",
    "        folder_list = os.listdir(path)\n",
    "        for folder in folder_list:\n",
    "            new_path = os.path.join(path, folder)\n",
    "            if os.path.isdir(new_path):\n",
    "                index += self.get_number(new_path)\n",
    "            else:\n",
    "                index += 1\n",
    "        return index"
   ]
  },
  {
   "cell_type": "code",
   "execution_count": null,
   "metadata": {},
   "outputs": [],
   "source": [
    "a = QF_NRA(execl='charts/base.xlsx', solver='z3_UD')\n",
    "a.arrange()\n",
    "a.save_to('charts/result_z3_UD.xlsx')"
   ]
  },
  {
   "cell_type": "code",
   "execution_count": null,
   "metadata": {},
   "outputs": [],
   "source": [
    "a = QF_NRA(init=True)\n",
    "a.records\n",
    "a.save_to('charts/base.xlsx')"
   ]
  },
  {
   "cell_type": "code",
   "execution_count": null,
   "metadata": {},
   "outputs": [],
   "source": [
    "a = QF_NRA(execl='charts/base.xlsx')\n",
    "a.arrange()\n",
    "a.save_to('charts/result_z3.xlsx')"
   ]
  },
  {
   "cell_type": "code",
   "execution_count": null,
   "metadata": {},
   "outputs": [],
   "source": [
    "a = QF_NRA(execl='charts/base.xlsx', solver='cvc5')\n",
    "a.arrange()\n",
    "a.save_to('charts/result_cvc5.xlsx')"
   ]
  },
  {
   "cell_type": "code",
   "execution_count": null,
   "metadata": {},
   "outputs": [],
   "source": [
    "a = QF_NRA(execl='charts/base.xlsx', solver='smtrat')\n",
    "a.arrange()\n",
    "a.save_to('charts/result_smtrat.xlsx')"
   ]
  },
  {
   "cell_type": "code",
   "execution_count": null,
   "metadata": {},
   "outputs": [],
   "source": [
    "a = QF_NRA(execl='charts/base.xlsx', solver='mathsat5')\n",
    "a.arrange()\n",
    "a.save_to('charts/result_mathsat5.xlsx')"
   ]
  },
  {
   "cell_type": "code",
   "execution_count": 3,
   "metadata": {},
   "outputs": [
    {
     "data": {
      "application/vnd.jupyter.widget-view+json": {
       "model_id": "8d9b073c16d442b8bfb9847b9aa20062",
       "version_major": 2,
       "version_minor": 0
      },
      "text/plain": [
       "results/yices2/yices2_4:   0%|          | 0/125 [00:00<?, ?it/s]"
      ]
     },
     "metadata": {},
     "output_type": "display_data"
    },
    {
     "data": {
      "application/vnd.jupyter.widget-view+json": {
       "model_id": "eaec52a60a2b406eb20107cb339925bd",
       "version_major": 2,
       "version_minor": 0
      },
      "text/plain": [
       "results/yices2/yices2_1:   0%|          | 0/125 [00:00<?, ?it/s]"
      ]
     },
     "metadata": {},
     "output_type": "display_data"
    },
    {
     "data": {
      "application/vnd.jupyter.widget-view+json": {
       "model_id": "06a663d3914b422e9d22c61b751182f8",
       "version_major": 2,
       "version_minor": 0
      },
      "text/plain": [
       "results/yices2/yices2_10:   0%|          | 0/125 [00:00<?, ?it/s]"
      ]
     },
     "metadata": {},
     "output_type": "display_data"
    },
    {
     "data": {
      "application/vnd.jupyter.widget-view+json": {
       "model_id": "7894ca84b3ba43d3a6e0594f2af67130",
       "version_major": 2,
       "version_minor": 0
      },
      "text/plain": [
       "results/yices2/yices2_3:   0%|          | 0/125 [00:00<?, ?it/s]"
      ]
     },
     "metadata": {},
     "output_type": "display_data"
    },
    {
     "data": {
      "application/vnd.jupyter.widget-view+json": {
       "model_id": "23d777a88afb4bc3b220ce7f9b350daf",
       "version_major": 2,
       "version_minor": 0
      },
      "text/plain": [
       "results/yices2/yices2_6:   0%|          | 0/125 [00:00<?, ?it/s]"
      ]
     },
     "metadata": {},
     "output_type": "display_data"
    },
    {
     "data": {
      "application/vnd.jupyter.widget-view+json": {
       "model_id": "0d4444dcfc2145bbba8b0cd7df457fa8",
       "version_major": 2,
       "version_minor": 0
      },
      "text/plain": [
       "results/yices2/yices2_9:   0%|          | 0/125 [00:00<?, ?it/s]"
      ]
     },
     "metadata": {},
     "output_type": "display_data"
    },
    {
     "data": {
      "application/vnd.jupyter.widget-view+json": {
       "model_id": "829041ab4e3344f9bc15280cd9a240c2",
       "version_major": 2,
       "version_minor": 0
      },
      "text/plain": [
       "results/yices2/yices2_7:   0%|          | 0/125 [00:00<?, ?it/s]"
      ]
     },
     "metadata": {},
     "output_type": "display_data"
    },
    {
     "data": {
      "application/vnd.jupyter.widget-view+json": {
       "model_id": "abd6b89eb6b347efafd5bb9c23d5cd40",
       "version_major": 2,
       "version_minor": 0
      },
      "text/plain": [
       "results/yices2/yices2_2:   0%|          | 0/125 [00:00<?, ?it/s]"
      ]
     },
     "metadata": {},
     "output_type": "display_data"
    },
    {
     "data": {
      "application/vnd.jupyter.widget-view+json": {
       "model_id": "e54e2898771344e99546e1011bb73638",
       "version_major": 2,
       "version_minor": 0
      },
      "text/plain": [
       "results/yices2/yices2_8:   0%|          | 0/125 [00:00<?, ?it/s]"
      ]
     },
     "metadata": {},
     "output_type": "display_data"
    },
    {
     "data": {
      "application/vnd.jupyter.widget-view+json": {
       "model_id": "0fbf6918ab004f4e834c03ccbe0b8e4f",
       "version_major": 2,
       "version_minor": 0
      },
      "text/plain": [
       "results/yices2/yices2_5:   0%|          | 0/125 [00:00<?, ?it/s]"
      ]
     },
     "metadata": {},
     "output_type": "display_data"
    }
   ],
   "source": [
    "a = QF_NRA(execl='charts/base.xlsx', solver='yices2')\n",
    "a.arrange()\n",
    "a.save_to('charts/result_yices2.xlsx')"
   ]
  },
  {
   "cell_type": "code",
   "execution_count": null,
   "metadata": {},
   "outputs": [],
   "source": [
    "a = QF_NRA(execl='result_cvc5_3.xlsx', data_path='result_QF_NRA_part_new')\n",
    "a.arrange()\n",
    "a.save_to('result_cvc5_4.xlsx')"
   ]
  },
  {
   "cell_type": "markdown",
   "metadata": {},
   "source": [
    "mbo部分"
   ]
  },
  {
   "cell_type": "code",
   "execution_count": null,
   "metadata": {},
   "outputs": [],
   "source": [
    "a = QF_NRA(execl='base.xlsx', data_path='result_1')\n",
    "a.arrange_mbo()\n",
    "a.save_to('result_mbo_1.xlsx')\n",
    "\n",
    "a = QF_NRA(execl='base.xlsx', data_path='result_2')\n",
    "a.arrange_mbo()\n",
    "a.save_to('result_mbo_2.xlsx')\n",
    "\n",
    "a = QF_NRA(execl='base.xlsx', data_path='result_3')\n",
    "a.arrange_mbo()\n",
    "a.save_to('result_mbo_3.xlsx')"
   ]
  },
  {
   "cell_type": "markdown",
   "metadata": {},
   "source": [
    "附加记录"
   ]
  },
  {
   "cell_type": "code",
   "execution_count": null,
   "metadata": {},
   "outputs": [],
   "source": [
    "a = QF_NRA(execl='result_mbo_4.xlsx', data_path='result_4')\n",
    "a.arrange_mbo(res='4_result', tim='4_time')\n",
    "a.save_to('result_mbo_4.xlsx')\n",
    "\n",
    "a = QF_NRA(execl='result_mbo_4.xlsx', data_path='result_5')\n",
    "a.arrange_mbo(res='5_result', tim='5_time')\n",
    "a.save_to('result_mbo_4.xlsx')\n",
    "\n",
    "a = QF_NRA(execl='result_mbo_4.xlsx', data_path='result_control1')\n",
    "a.arrange_mbo(res='control1_result', tim='control1_time')\n",
    "a.save_to('result_mbo_4.xlsx')\n",
    "\n",
    "a = QF_NRA(execl='result_mbo_4.xlsx', data_path='result_control2')\n",
    "a.arrange_mbo(res='control2_result', tim='control2_time')\n",
    "a.save_to('result_mbo_4.xlsx')"
   ]
  },
  {
   "cell_type": "code",
   "execution_count": null,
   "metadata": {},
   "outputs": [],
   "source": [
    "a = QF_NRA(execl='result_mbo.xlsx', data_path='result')\n",
    "a.arrange()\n",
    "a.save_to('result_mbo_4.xlsx')"
   ]
  },
  {
   "cell_type": "markdown",
   "metadata": {},
   "source": [
    "mbo难解部分"
   ]
  },
  {
   "cell_type": "code",
   "execution_count": null,
   "metadata": {},
   "outputs": [],
   "source": [
    "a = QF_NRA(execl='result_mbo_4.xlsx', data_path='result')\n",
    "a.get_timeout(source_path='../../QF_NRA/20161105-Sturm-MBO', target_path='../../QF_NRA_MBO')\n",
    "a.delete(path='../../QF_NRA_MBO', screen='3_result', screen_result='timeout,unsaterror', path_prefix='QF_NRA/20161105-Sturm-MBO')\n",
    "# a.save_to('result_mbo_4.xlsx')"
   ]
  }
 ],
 "metadata": {
  "kernelspec": {
   "display_name": "Python 3.9.12 ('base')",
   "language": "python",
   "name": "python3"
  },
  "language_info": {
   "codemirror_mode": {
    "name": "ipython",
    "version": 3
   },
   "file_extension": ".py",
   "mimetype": "text/x-python",
   "name": "python",
   "nbconvert_exporter": "python",
   "pygments_lexer": "ipython3",
   "version": "3.9.12"
  },
  "orig_nbformat": 4,
  "vscode": {
   "interpreter": {
    "hash": "b92a0254a30c2afbf0cf228538e1698f068dfe9bb515fbf9837b53b2177d9016"
   }
  }
 },
 "nbformat": 4,
 "nbformat_minor": 2
}
