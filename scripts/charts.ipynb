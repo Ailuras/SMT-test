{
 "cells": [
  {
   "cell_type": "code",
   "execution_count": 3,
   "metadata": {},
   "outputs": [],
   "source": [
    "import pandas as pd\n",
    "import os\n",
    "from tqdm.notebook import tqdm\n",
    "\n",
    "class SMT_test:\n",
    "    chart = None\n",
    "    def __init__(self, benchmarks_path='../../', chart_path='../charts', result_path='../results'):\n",
    "        self.benchmarks_path = benchmarks_path\n",
    "        self.chart_path = chart_path\n",
    "        self.result_path = result_path\n",
    "\n",
    "    def init_chart(self, folder_path, read_path, save_path):\n",
    "        full_execl_path = f'{self.chart_path}/{read_path}'\n",
    "        self.chart = pd.read_excel(full_execl_path, header=[0], index_col = [0])\n",
    "        full_folder_path = f'{self.benchmarks_path}{folder_path}'\n",
    "        self.get_info(full_folder_path)\n",
    "        full_save_path = f'{self.chart_path}/{save_path}'\n",
    "        self.chart.to_excel(full_save_path)\n",
    "    \n",
    "    def get_info(self, folder_path):\n",
    "        benchmarks = os.listdir(folder_path)\n",
    "        for file in benchmarks:\n",
    "            path = os.path.join(folder_path, file)\n",
    "            if os.path.isdir(path):\n",
    "                self.get_info(path)\n",
    "            else:\n",
    "                try:\n",
    "                    with open(path) as f:\n",
    "                        vars = 0\n",
    "                        assertions = 0\n",
    "                        status = 'none'\n",
    "                        line = f.readline()\n",
    "                        while line:\n",
    "                            if line[:3] == '(de':\n",
    "                                vars += 1\n",
    "                            elif line[:3] == '(as':\n",
    "                                assertions += 1\n",
    "                            elif line[11:17] == 'status':\n",
    "                                status = line.split(' ')[2][:-2]\n",
    "                            line = f.readline()\n",
    "                        category = path.split('/')[-2]\n",
    "                        path = path.replace(self.benchmarks_path, '')\n",
    "                        self.chart.loc[len(self.chart.index)] = [path, category, vars, assertions, status]\n",
    "                except:\n",
    "                    print(path)\n",
    "\n",
    "    def arrange(self, solver, log_path, read_path, save_path):\n",
    "        full_execl_path = f'{self.chart_path}/{read_path}'\n",
    "        self.chart = pd.read_excel(full_execl_path, header=[0], index_col = [0])\n",
    "        full_res_path = f'{self.result_path}/{solver}/{log_path}'\n",
    "        results = os.listdir(full_res_path)\n",
    "        result_name = f'result_{solver}_{log_path}'\n",
    "        model_name = f'model_{solver}_{log_path}'\n",
    "        time_name = f'time_{solver}_{log_path}'\n",
    "        total = len(self.chart.index)\n",
    "        count = 0\n",
    "        for file in tqdm(results, desc=full_res_path):\n",
    "            with open(os.path.join(full_res_path, file)) as f:\n",
    "                try:\n",
    "                    if log_path[:3] == 'Max':\n",
    "                        while f.readline():\n",
    "                            result = f.readline().rstrip()\n",
    "                            model = \"none\"\n",
    "                            # MaxSMT-test only\n",
    "                            if result[:3] == \"(er\": # case z3\n",
    "                                result = f.readline().rstrip()\n",
    "                                if result == \"sat\":\n",
    "                                    f.readline()\n",
    "                                    model = f.readline().rstrip().split(' ')[-1][:-1]\n",
    "                                    f.readline()\n",
    "                                elif result == \"unknown\":\n",
    "                                    f.readline()\n",
    "                                    model = f.readline().rstrip().split(' ')[-1][:-2]\n",
    "                                    f.readline()\n",
    "                            else: # case PairLS\n",
    "                                f.readline()\n",
    "                                model = f.readline().rstrip()\n",
    "                                f.readline()\n",
    "                            info = f.readline().rstrip()\n",
    "                            name = info.split(' : ')[0]\n",
    "                            name = name.replace('MaxSMT_LS', 'MaxSMT_z3')\n",
    "                            timeout = info.split(' : ')[1][:-4]\n",
    "                            self.chart.loc[self.chart['filename'] == name, [result_name, model_name, time_name]] = [result, int(model), float(timeout)]\n",
    "                            count += 1\n",
    "                    elif solver == 'z3' or solver == 'z3pp-ls' or solver == 'z3pp':\n",
    "                        while f.readline():\n",
    "                            result = f.readline().rstrip()\n",
    "                            if result[:3] == \"uns\":\n",
    "                                f.readline()\n",
    "                                result = f.readline().rstrip()\n",
    "                            model = \"none\"\n",
    "                            # OMT-test only\n",
    "                            if result == \"sat\" or result == \"unknown\":\n",
    "                                f.readline()\n",
    "                                model = f.readline().rstrip().split(' ')[-1][:-1]\n",
    "                                tmp = f.readline()\n",
    "                                if tmp[:1] != ')':\n",
    "                                    f.readline()\n",
    "                            elif result[:3] == \"./s\":\n",
    "                                result = \"unknown\"\n",
    "                            info = f.readline().rstrip()\n",
    "                            if info == \"unknown\":\n",
    "                                info = f.readline().rstrip()\n",
    "                            while info[:3] == \"(er\":\n",
    "                                info = f.readline().rstrip()\n",
    "                            name = info.split(' : ')[0]\n",
    "                            timeout = info.split(' : ')[1][:-4]\n",
    "                            model = model if model != \"oo)\" else \"-oo\"\n",
    "                            self.chart.loc[self.chart['filename'] == name, [result_name, model_name, time_name]] = [result, model, float(timeout)]\n",
    "                            count += 1\n",
    "                    elif solver == 'cvc5-omt':\n",
    "                        while f.readline():\n",
    "                            result = f.readline().rstrip()\n",
    "                            model = \"none\"\n",
    "                            if result[:5] == 'Fatal':\n",
    "                                result = \"unknown\"\n",
    "                                info = f.readline().rstrip()\n",
    "                                while not info[:2] == './':\n",
    "                                    info = f.readline().rstrip()\n",
    "                            elif result[:3] == \"cvc\" or result[:4] == '(err':\n",
    "                                result = \"timeout\"\n",
    "                            elif result[:4] == 'ERRO':\n",
    "                                result = \"timeout\"\n",
    "                                info = f.readline().rstrip()\n",
    "                                while not info[:3] == 'cvc':\n",
    "                                    info = f.readline().rstrip()\n",
    "                            elif result == \"sat\":\n",
    "                                info = f.readline().rstrip()\n",
    "                                if info[:3] == '(ob':\n",
    "                                    model = f.readline().rstrip().split(' ')[-1][:-1]\n",
    "                                    f.readline()\n",
    "                                elif info[:3] == 'cvc':\n",
    "                                    result = \"unknown\"\n",
    "                                    while not info[:2] == './':\n",
    "                                        info = f.readline().rstrip()\n",
    "                            info = f.readline().rstrip() \n",
    "                            name = info.split(' : ')[0]\n",
    "                            timeout = info.split(' : ')[1][:-4]\n",
    "                            model = model if model != \"oo)\" else \"-oo\"\n",
    "                            self.chart.loc[self.chart['filename'] == name, [result_name, model_name, time_name]] = [result, model, float(timeout)]\n",
    "                            count += 1\n",
    "                except:\n",
    "                    print(file)\n",
    "\n",
    "        print(f\"count/total: {count}/{total}\")\n",
    "        \n",
    "        full_save_path = f'{self.chart_path}/{save_path}'\n",
    "        self.chart.to_excel(full_save_path)"
   ]
  },
  {
   "cell_type": "code",
   "execution_count": 4,
   "metadata": {},
   "outputs": [
    {
     "name": "stdout",
     "output_type": "stream",
     "text": [
      "../../QF_NRA/.git/index\n",
      "../../QF_NRA/.git/objects/pack/pack-534402e95664231f6aee8a2e2b373cd91c090aba.pack\n",
      "../../QF_NRA/.git/objects/pack/pack-534402e95664231f6aee8a2e2b373cd91c090aba.idx\n",
      "../../QF_NRA/.git/objects/10/43e0a74eed0e0423ab4d7fb51513b712d05337\n"
     ]
    }
   ],
   "source": [
    "# 初始化列表\n",
    "init = SMT_test()\n",
    "init.init_chart('QF_NRA', 'base.xlsx', 'QF_NRA.xlsx')\n",
    "# init.init_chart('OMT_LIA', 'base.xlsx', 'OMT_LIA.xlsx')\n",
    "# init.init_chart('OMT_NRA', 'base.xlsx', 'OMT_NRA.xlsx')\n",
    "# init.init_chart('MaxSMT_z3', 'base.xlsx', 'MaxSMT.xlsx')"
   ]
  },
  {
   "cell_type": "code",
   "execution_count": null,
   "metadata": {},
   "outputs": [],
   "source": [
    "omt_lia = SMT_test()\n",
    "omt_lia.arrange('z3pp-ls', 'OMT_LIA', 'OMT_LIA.xlsx', 'result_OMT_LIA.xlsx')\n",
    "omt_lia.arrange('z3', 'OMT_LIA', 'result_OMT_LIA.xlsx', 'result_OMT_LIA.xlsx')"
   ]
  },
  {
   "cell_type": "code",
   "execution_count": null,
   "metadata": {},
   "outputs": [],
   "source": [
    "omt_nra = SMT_test()\n",
    "omt_nra.arrange('cvc5-omt', 'OMT_NRA', 'OMT_NRA.xlsx', 'result_OMT_NRA.xlsx')\n",
    "omt_nra.arrange('z3', 'OMT_NRA', 'result_OMT_NRA.xlsx', 'result_OMT_NRA.xlsx')"
   ]
  },
  {
   "cell_type": "code",
   "execution_count": 4,
   "metadata": {},
   "outputs": [
    {
     "data": {
      "application/vnd.jupyter.widget-view+json": {
       "model_id": "d28173c97c3f45db818fdcb409c7fc66",
       "version_major": 2,
       "version_minor": 0
      },
      "text/plain": [
       "../results/PairLS/MaxSMT_LS:   0%|          | 0/96 [00:00<?, ?it/s]"
      ]
     },
     "metadata": {},
     "output_type": "display_data"
    },
    {
     "name": "stdout",
     "output_type": "stream",
     "text": [
      "count/total: 1248/1248\n"
     ]
    },
    {
     "data": {
      "application/vnd.jupyter.widget-view+json": {
       "model_id": "fb04e93bb5574aa4b36c2fd943c6ba87",
       "version_major": 2,
       "version_minor": 0
      },
      "text/plain": [
       "../results/z3/MaxSMT_z3:   0%|          | 0/96 [00:00<?, ?it/s]"
      ]
     },
     "metadata": {},
     "output_type": "display_data"
    },
    {
     "name": "stdout",
     "output_type": "stream",
     "text": [
      "count/total: 1248/1248\n"
     ]
    }
   ],
   "source": [
    "maxsmt = SMT_test()\n",
    "maxsmt.arrange('PairLS', 'MaxSMT_LS', 'MaxSMT.xlsx', 'result_MaxSMT.xlsx')\n",
    "maxsmt.arrange('z3', 'MaxSMT_z3', 'result_MaxSMT.xlsx', 'result_MaxSMT.xlsx')"
   ]
  }
 ],
 "metadata": {
  "kernelspec": {
   "display_name": "Python 3.9.12 ('base')",
   "language": "python",
   "name": "python3"
  },
  "language_info": {
   "codemirror_mode": {
    "name": "ipython",
    "version": 3
   },
   "file_extension": ".py",
   "mimetype": "text/x-python",
   "name": "python",
   "nbconvert_exporter": "python",
   "pygments_lexer": "ipython3",
   "version": "3.9.12"
  },
  "orig_nbformat": 4,
  "vscode": {
   "interpreter": {
    "hash": "b92a0254a30c2afbf0cf228538e1698f068dfe9bb515fbf9837b53b2177d9016"
   }
  }
 },
 "nbformat": 4,
 "nbformat_minor": 2
}
