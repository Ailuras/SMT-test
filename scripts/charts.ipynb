{
 "cells": [
  {
   "cell_type": "code",
   "execution_count": 1,
   "metadata": {},
   "outputs": [],
   "source": [
    "import pandas as pd\n",
    "import os\n",
    "from tqdm.notebook import tqdm\n",
    "\n",
    "class SMT_test:\n",
    "    chart = None\n",
    "    def __init__(self, benchmarks_path='../../', chart_path='../charts', result_path='../results'):\n",
    "        self.benchmarks_path = benchmarks_path\n",
    "        self.chart_path = chart_path\n",
    "        self.result_path = result_path\n",
    "\n",
    "    def init_chart(self, folder_path, read_path, save_path):\n",
    "        full_execl_path = f'{self.chart_path}/{read_path}'\n",
    "        self.chart = pd.read_excel(full_execl_path, header=[0], index_col = [0])\n",
    "        full_folder_path = f'{self.benchmarks_path}{folder_path}'\n",
    "        self.get_info(full_folder_path)\n",
    "        full_save_path = f'{self.chart_path}/{save_path}'\n",
    "        self.chart.to_excel(full_save_path)\n",
    "    \n",
    "    def get_info(self, folder_path):\n",
    "        benchmarks = os.listdir(folder_path)\n",
    "        for file in benchmarks:\n",
    "            path = os.path.join(folder_path, file)\n",
    "            if os.path.isdir(path):\n",
    "                self.get_info(path)\n",
    "            else:\n",
    "                try:\n",
    "                    with open(path) as f:\n",
    "                        vars = 0\n",
    "                        assertions = 0\n",
    "                        status = 'none'\n",
    "                        line = f.readline()\n",
    "                        while line:\n",
    "                            if line[:3] == '(de':\n",
    "                                vars += 1\n",
    "                            elif line[:3] == '(as':\n",
    "                                assertions += 1\n",
    "                            elif line[11:17] == 'status':\n",
    "                                status = line.split(' ')[2][:-2]\n",
    "                            line = f.readline()\n",
    "                        category = path.split('/')[-2]\n",
    "                        path = path.replace(self.benchmarks_path, '')\n",
    "                        self.chart.loc[len(self.chart.index)] = [path, category, vars, assertions, status]\n",
    "                except:\n",
    "                    print(path)\n",
    "\n",
    "    def arrange(self, solver, log_path, read_path, save_path):\n",
    "        full_execl_path = f'{self.chart_path}/{read_path}'\n",
    "        self.chart = pd.read_excel(full_execl_path, header=[0], index_col = [0])\n",
    "        full_res_path = f'{self.result_path}/{solver}/{log_path}'\n",
    "        results = os.listdir(full_res_path)\n",
    "        result_name = f'result_{solver}_{log_path}'\n",
    "        time_name = f'time_{solver}_{log_path}'\n",
    "        total = len(self.chart.index)\n",
    "        count = 0\n",
    "        for file in tqdm(results, desc=full_res_path):\n",
    "            with open(os.path.join(full_res_path, file)) as f:\n",
    "                try:\n",
    "                    if solver == 'z3' or solver == 'z3pp_ls' or solver == 'z3pp':\n",
    "                        while f.readline():\n",
    "                            result = f.readline().rstrip()\n",
    "                            # OMT-test only\n",
    "                            if result == \"sat\" or result == \"unknown\":\n",
    "                                f.readline()\n",
    "                                f.readline()\n",
    "                                f.readline()\n",
    "                            elif result[:3] == \"./s\":\n",
    "                                result = \"unknown\"\n",
    "                            info = f.readline().rstrip()\n",
    "                            if info == \"unknown\":\n",
    "                                info = f.readline().rstrip()\n",
    "                            name = info.split(' : ')[0]\n",
    "                            timeout = info.split(' : ')[1][:-4]\n",
    "                            self.chart.loc[self.chart['filename'] == name, [result_name, time_name]] = [result, float(timeout)]\n",
    "                            count += 1\n",
    "                    elif solver == 'cvc5':\n",
    "                        while f.readline():\n",
    "                            info = f.readline().rstrip()\n",
    "                            result = info\n",
    "                            if info == 'unknown':\n",
    "                                info = f.readline().rstrip()\n",
    "                                if len(info) < 10:\n",
    "                                    if len(info) > 1:\n",
    "                                        result = info\n",
    "                                    info = f.readline().rstrip()\n",
    "                            elif len(info) > 10:\n",
    "                                result = \"unknown\"\n",
    "                            else:\n",
    "                                info = f.readline().rstrip()\n",
    "                            name = info.split(' : ')[0]\n",
    "                            timeout = info.split(' : ')[1][:-4]\n",
    "                            self.chart.loc[self.chart['filename'] == name, [result_name, time_name]] = [result, float(timeout)]\n",
    "                            count += 1\n",
    "                    elif solver == 'cvc5_new':\n",
    "                        while f.readline():\n",
    "                            info = f.readline().rstrip()\n",
    "                            result = info\n",
    "                            if len(info) > 10:\n",
    "                                result = \"unknown\"\n",
    "                            info = f.readline().rstrip()\n",
    "                            name = info.split(' : ')[0]\n",
    "                            timeout = info.split(' : ')[1][:-4]\n",
    "                            self.chart.loc[self.chart['filename'] == name, [result_name, time_name]] = [result, float(timeout)]\n",
    "                            count += 1\n",
    "                    elif solver == 'yices2':\n",
    "                        while f.readline():\n",
    "                            result = f.readline().rstrip()\n",
    "                            if result[:3] == 'QF_':\n",
    "                                info = result\n",
    "                                result = 'timeout'\n",
    "                            else:\n",
    "                                info = f.readline()[:-1]\n",
    "                            name = info.split(' : ')[0]\n",
    "                            timeout = info.split(' : ')[1][:-4]\n",
    "                            self.chart.loc[self.chart['filename'] == name, [result_name, time_name]] = [result, float(timeout)]\n",
    "                            count += 1\n",
    "                    elif solver == 'mathsat5':\n",
    "                        while f.readline():\n",
    "                            result = f.readline().rstrip()\n",
    "                            if result[:3] == './s':\n",
    "                                result = 'timeout'\n",
    "                            if result[:3] == 'tcm':\n",
    "                                result = 'timeout'\n",
    "                                info = f.readline()\n",
    "                                while info[:3] == 'tcm':\n",
    "                                    info = f.readline()\n",
    "                            if result[:3] == '(er':\n",
    "                                result = 'not support'\n",
    "                            info = f.readline()[:-1]\n",
    "                            name = info.split(' : ')[0]\n",
    "                            timeout = info.split(' : ')[1][:-4]\n",
    "                            self.chart.loc[self.chart['filename'] == name, [result_name, time_name]] = [result, float(timeout)]\n",
    "                            count += 1\n",
    "                    elif solver == 'smtrat':\n",
    "                        while f.readline():\n",
    "                            result = f.readline().rstrip()\n",
    "                            if result[:3] == './s':\n",
    "                                result = 'timeout'\n",
    "                            if result[:3] == 'QF_':\n",
    "                                info = result\n",
    "                                result = 'none'\n",
    "                            else:\n",
    "                                info = f.readline()[:-1]\n",
    "                            name = info.split(' : ')[0]\n",
    "                            timeout = info.split(' : ')[1][:-4]\n",
    "                            self.chart.loc[self.chart['filename'] == name, [result_name, time_name]] = [result, float(timeout)]\n",
    "                            count += 1\n",
    "                    elif solver == 'optimathsat':\n",
    "                        while f.readline():\n",
    "                            info = f.readline().rstrip()\n",
    "                            if len(info) > 10:\n",
    "                                if info[:3] == 'OMT':\n",
    "                                    result = \"timeout\"\n",
    "                                else:\n",
    "                                    result = \"unknown\"\n",
    "                                    info = f.readline().rstrip()\n",
    "                            else:\n",
    "                                result = info\n",
    "                                info = f.readline().rstrip()\n",
    "                            name = info.split(' : ')[0]\n",
    "                            timeout = info.split(' : ')[1][:-4]\n",
    "                            self.chart.loc[self.chart['filename'] == name, [result_name, time_name]] = [result, float(timeout)]\n",
    "                            count += 1\n",
    "                except:\n",
    "                    print(file)\n",
    "\n",
    "        print(f\"count/total: {count}/{total}\")\n",
    "        \n",
    "        full_save_path = f'{self.chart_path}/{save_path}'\n",
    "        self.chart.to_excel(full_save_path)"
   ]
  },
  {
   "cell_type": "code",
   "execution_count": 2,
   "metadata": {},
   "outputs": [],
   "source": [
    "# str = SMT_test()\n",
    "# str.init_chart('QF_S', 'base.xlsx', 'QF_S.xlsx')\n",
    "# str.init_chart('QF_SLIA', 'base.xlsx', 'QF_SLIA.xlsx')\n",
    "# str.arrange('cvc5', 'QF_S', 'QF_S.xlsx', 'result_QF_S.xlsx')\n",
    "# str.arrange('cvc5', 'QF_SLIA', 'QF_SLIA.xlsx', 'result_QF_SLIA.xlsx')\n",
    "# str.arrange('cvc5_new', 'QF_SLIA_unknown', 'QF_SLIA.xlsx', 'result_QF_SLIA_unknown.xlsx')\n",
    "# str.arrange('cvc5_new', 'QF_S_unknown', 'QF_S.xlsx', 'result_QF_S_unknown.xlsx')"
   ]
  },
  {
   "cell_type": "code",
   "execution_count": 3,
   "metadata": {},
   "outputs": [],
   "source": [
    "# omt = SMT_test()\n",
    "# str.init_chart('OMT_LIA', 'base.xlsx', 'OMT_LIA.xlsx')\n",
    "# omt.arrange('optimathsat', 'OMT_LIA', 'OMT_LIA.xlsx', 'result_optimathsat_LIA.xlsx')"
   ]
  },
  {
   "cell_type": "code",
   "execution_count": 4,
   "metadata": {},
   "outputs": [
    {
     "data": {
      "application/vnd.jupyter.widget-view+json": {
       "model_id": "daa5ef7b4ce94d56b494ed90d2ece8ca",
       "version_major": 2,
       "version_minor": 0
      },
      "text/plain": [
       "../results/z3/OMT_LIA:   0%|          | 0/192 [00:00<?, ?it/s]"
      ]
     },
     "metadata": {},
     "output_type": "display_data"
    },
    {
     "name": "stdout",
     "output_type": "stream",
     "text": [
      "count/total: 1147/8034\n"
     ]
    }
   ],
   "source": [
    "omt = SMT_test()\n",
    "omt.arrange('z3', 'OMT_LIA', 'OMT_LIA.xlsx', 'result_OMT_LIA.xlsx')"
   ]
  },
  {
   "cell_type": "code",
   "execution_count": 5,
   "metadata": {},
   "outputs": [
    {
     "data": {
      "application/vnd.jupyter.widget-view+json": {
       "model_id": "99a01dcb0f0047bca9a2552eff0a090a",
       "version_major": 2,
       "version_minor": 0
      },
      "text/plain": [
       "../results/z3pp/OMT_LIA:   0%|          | 0/192 [00:00<?, ?it/s]"
      ]
     },
     "metadata": {},
     "output_type": "display_data"
    },
    {
     "name": "stdout",
     "output_type": "stream",
     "text": [
      "count/total: 1147/8034\n"
     ]
    }
   ],
   "source": [
    "omt = SMT_test()\n",
    "omt.arrange('z3pp', 'OMT_LIA', 'result_OMT_LIA.xlsx', 'result_OMT_LIA.xlsx')"
   ]
  },
  {
   "cell_type": "code",
   "execution_count": 6,
   "metadata": {},
   "outputs": [
    {
     "data": {
      "application/vnd.jupyter.widget-view+json": {
       "model_id": "053b5e8d09244d6a864cfb70161af0fe",
       "version_major": 2,
       "version_minor": 0
      },
      "text/plain": [
       "../results/z3pp_ls/OMT_LIA:   0%|          | 0/192 [00:00<?, ?it/s]"
      ]
     },
     "metadata": {},
     "output_type": "display_data"
    },
    {
     "name": "stdout",
     "output_type": "stream",
     "text": [
      "count/total: 1147/8034\n"
     ]
    }
   ],
   "source": [
    "omt = SMT_test()\n",
    "omt.arrange('z3pp_ls', 'OMT_LIA', 'result_OMT_LIA.xlsx', 'result_OMT_LIA.xlsx')"
   ]
  }
 ],
 "metadata": {
  "kernelspec": {
   "display_name": "Python 3.9.12 ('base')",
   "language": "python",
   "name": "python3"
  },
  "language_info": {
   "codemirror_mode": {
    "name": "ipython",
    "version": 3
   },
   "file_extension": ".py",
   "mimetype": "text/x-python",
   "name": "python",
   "nbconvert_exporter": "python",
   "pygments_lexer": "ipython3",
   "version": "3.9.12"
  },
  "orig_nbformat": 4,
  "vscode": {
   "interpreter": {
    "hash": "b92a0254a30c2afbf0cf228538e1698f068dfe9bb515fbf9837b53b2177d9016"
   }
  }
 },
 "nbformat": 4,
 "nbformat_minor": 2
}
