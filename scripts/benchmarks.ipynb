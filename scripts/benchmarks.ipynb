{
 "cells": [
  {
   "cell_type": "code",
   "execution_count": 21,
   "metadata": {},
   "outputs": [],
   "source": [
    "import pandas as pd\n",
    "import os\n",
    "from tqdm.notebook import tqdm\n",
    "import shutil\n",
    "\n",
    "class SMT_test:\n",
    "    chart = None\n",
    "    def __init__(self, benchmarks_path='../../', chart_path='../charts', result_path='../results'):\n",
    "        self.benchmarks_path = benchmarks_path\n",
    "        self.chart_path = chart_path\n",
    "        self.result_path = result_path\n",
    "\n",
    "    def init_chart(self, folder_path, read_path, save_path):\n",
    "        full_execl_path = f'{self.chart_path}/{read_path}'\n",
    "        self.chart = pd.read_excel(full_execl_path, header=[0], index_col = [0])\n",
    "        full_folder_path = f'{self.benchmarks_path}{folder_path}'\n",
    "        self.get_info(full_folder_path)\n",
    "        full_save_path = f'{self.chart_path}/{save_path}'\n",
    "        self.chart.to_excel(full_save_path)\n",
    "    \n",
    "    def get_info(self, folder_path):\n",
    "        benchmarks = os.listdir(folder_path)\n",
    "        for file in benchmarks:\n",
    "            path = os.path.join(folder_path, file)\n",
    "            if os.path.isdir(path):\n",
    "                self.get_info(path)\n",
    "            else:\n",
    "                try:\n",
    "                    with open(path) as f:\n",
    "                        vars = 0\n",
    "                        assertions = 0\n",
    "                        status = 'none'\n",
    "                        line = f.readline()\n",
    "                        while line:\n",
    "                            if line[:3] == '(de':\n",
    "                                vars += 1\n",
    "                            elif line[:3] == '(as':\n",
    "                                assertions += 1\n",
    "                            elif line[11:17] == 'status':\n",
    "                                status = line.split(' ')[2][:-2]\n",
    "                            line = f.readline()\n",
    "                        category = path.split('/')[-2]\n",
    "                        path = path.replace(self.benchmarks_path, '')\n",
    "                        self.chart.loc[len(self.chart.index)] = [path, category, vars, assertions, status]\n",
    "                except:\n",
    "                    print(path)\n",
    "\n",
    "    def move_files_to_folder(self, path_list, destination_folder):\n",
    "        if not os.path.exists(destination_folder):\n",
    "            os.makedirs(destination_folder)\n",
    "        for path in path_list:\n",
    "            if os.path.isfile(path):\n",
    "                print()\n",
    "                file_name = os.path.basename(path)\n",
    "                destination_path = os.path.join(destination_folder, file_name)\n",
    "                shutil.move(path, destination_path)\n",
    "\n",
    "    def get_need_path(self, solver, log_path, read_path, save_path):\n",
    "        full_res_path = f'{self.result_path}/{solver}/{log_path}'\n",
    "        results = os.listdir(full_res_path)\n",
    "        count = 0\n",
    "        file_path_list = []\n",
    "        for file in tqdm(results, desc=full_res_path):\n",
    "            with open(os.path.join(full_res_path, file)) as f:\n",
    "                try:\n",
    "                    if solver == 'z3' or solver == 'z3pp_ls' or solver == 'z3pp':\n",
    "                        while f.readline():\n",
    "                            result = f.readline().rstrip()\n",
    "                            if result[:3] == 'run':\n",
    "                                result = 'timeout'\n",
    "                            if result[:3] == 'tac':\n",
    "                                result = 'timeout'\n",
    "                                f.readline()\n",
    "                            # OMT-test only\n",
    "                            if result == \"sat\":\n",
    "                                f.readline()\n",
    "                                f.readline()\n",
    "                                f.readline()\n",
    "                                info = f.readline().rstrip()\n",
    "                                name = info.split(' : ')[0]\n",
    "                                file_path = f'{read_path}/{name}'\n",
    "                                file_path_list.append(file_path)\n",
    "                                count += 1\n",
    "                            else:\n",
    "                                f.readline()\n",
    "                except:\n",
    "                    print(file)\n",
    "        # self.move_files_to_folder(file_path_list, save_path)\n",
    "        \n",
    "\n",
    "        print(f\"count: {count}\")"
   ]
  },
  {
   "cell_type": "code",
   "execution_count": 22,
   "metadata": {},
   "outputs": [
    {
     "data": {
      "application/vnd.jupyter.widget-view+json": {
       "model_id": "12ff1d6079bb440a9d10aaa747331948",
       "version_major": 2,
       "version_minor": 0
      },
      "text/plain": [
       "../results/z3pp_ls/OMT_LIA:   0%|          | 0/192 [00:00<?, ?it/s]"
      ]
     },
     "metadata": {},
     "output_type": "display_data"
    },
    {
     "name": "stdout",
     "output_type": "stream",
     "text": [
      "count: 827\n"
     ]
    }
   ],
   "source": [
    "omt = SMT_test()\n",
    "omt.get_need_path('z3pp_ls', 'OMT_LIA', '/home/hanrui', 'OMT_LIA')"
   ]
  }
 ],
 "metadata": {
  "kernelspec": {
   "display_name": "base",
   "language": "python",
   "name": "python3"
  },
  "language_info": {
   "codemirror_mode": {
    "name": "ipython",
    "version": 3
   },
   "file_extension": ".py",
   "mimetype": "text/x-python",
   "name": "python",
   "nbconvert_exporter": "python",
   "pygments_lexer": "ipython3",
   "version": "3.9.15"
  },
  "orig_nbformat": 4
 },
 "nbformat": 4,
 "nbformat_minor": 2
}
