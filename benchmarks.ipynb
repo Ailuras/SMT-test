{
 "cells": [
  {
   "cell_type": "code",
   "execution_count": 6,
   "metadata": {},
   "outputs": [],
   "source": [
    "import pandas as pd\n",
    "import os\n",
    "import shutil\n",
    "from tqdm.notebook import tqdm\n",
    "import subprocess\n",
    "\n",
    "class SMT_test:\n",
    "    chart = None\n",
    "    def __init__(self, benchmarks_path='../', chart_path='benchmarks', result_path='results'):\n",
    "        self.benchmarks_path = benchmarks_path\n",
    "        self.chart_path = chart_path\n",
    "        self.result_path = result_path\n",
    "\n",
    "    def get_unknown_path(self, solver, log_path, num_groups, prefix):\n",
    "        full_file_path = f'{self.chart_path}/{log_path}_unknown.log'\n",
    "        self.file = open(full_file_path, \"w\")\n",
    "        full_res_path = f'{self.result_path}/{solver}/{log_path}'\n",
    "        results = os.listdir(full_res_path)\n",
    "        count = 0\n",
    "        for file in tqdm(results, desc=full_res_path):\n",
    "            with open(os.path.join(full_res_path, file)) as f:\n",
    "                try:\n",
    "                    if solver == 'z3':\n",
    "                        while f.readline():\n",
    "                            result = f.readline().rstrip()\n",
    "                            if result[:3] == 'run':\n",
    "                                result = 'timeout'\n",
    "                            if result[:3] == 'tac':\n",
    "                                result = 'timeout'\n",
    "                                f.readline()\n",
    "                            info = f.readline()[:-1]\n",
    "                            if result == 'unknown':\n",
    "                                self.file.write(f\"{prefix}{info}\\n\")\n",
    "                                count += 1\n",
    "                    elif solver == 'cvc5':\n",
    "                        while f.readline():\n",
    "                            info = f.readline().rstrip()\n",
    "                            result = info\n",
    "                            if info == 'unknown':\n",
    "                                info = f.readline().rstrip()\n",
    "                                if len(info) < 10:\n",
    "                                    if len(info) > 1:\n",
    "                                        result = info\n",
    "                                    info = f.readline().rstrip()\n",
    "                            elif len(info) > 10:\n",
    "                                result = \"unknown\"\n",
    "                            # elif len(info) == 0:\n",
    "                            #     break\n",
    "                            else:\n",
    "                                info = f.readline().rstrip()\n",
    "                            if result == 'unknown':\n",
    "                                self.file.write(f\"{prefix}{info.split(' : ')[0]}\\n\")\n",
    "                                # print(info)\n",
    "                                count += 1\n",
    "                    elif solver == 'yices2':\n",
    "                        while f.readline():\n",
    "                            result = f.readline().rstrip()\n",
    "                            if result[:3] == 'QF_':\n",
    "                                info = result\n",
    "                                result = 'timeout'\n",
    "                            else:\n",
    "                                info = f.readline()[:-1]\n",
    "                            if result == 'unknown':\n",
    "                                self.file.write(f\"{prefix}{info}\\n\")\n",
    "                                count += 1\n",
    "                    elif solver == 'mathsat5':\n",
    "                        while f.readline():\n",
    "                            result = f.readline().rstrip()\n",
    "                            if result[:3] == './s':\n",
    "                                result = 'timeout'\n",
    "                            if result[:3] == 'tcm':\n",
    "                                result = 'timeout'\n",
    "                                info = f.readline()\n",
    "                                while info[:3] == 'tcm':\n",
    "                                    info = f.readline()\n",
    "                            if result[:3] == '(er':\n",
    "                                result = 'not support'\n",
    "                            info = f.readline()[:-1]\n",
    "                            if result == 'unknown':\n",
    "                                self.file.write(f\"{prefix}{info}\\n\")\n",
    "                                count += 1\n",
    "                    elif solver == 'smtrat':\n",
    "                        while f.readline():\n",
    "                            result = f.readline().rstrip()\n",
    "                            if result[:3] == './s':\n",
    "                                result = 'timeout'\n",
    "                            if result[:3] == 'QF_':\n",
    "                                info = result\n",
    "                                result = 'none'\n",
    "                            else:\n",
    "                                info = f.readline()[:-1]\n",
    "                            if result == 'unknown':\n",
    "                                self.file.write(f\"{prefix}{info}\\n\")\n",
    "                                count += 1\n",
    "                except:\n",
    "                    print(file)\n",
    "        print(f\"count: {count}\")\n",
    "        self.file.close()\n",
    "        \n",
    "        output_directory = f\"{self.chart_path}/{log_path}_unknown\"\n",
    "        if not os.path.exists(output_directory):\n",
    "            os.mkdir(output_directory)\n",
    "        else:\n",
    "            shutil.rmtree(output_directory)\n",
    "            os.mkdir(output_directory)\n",
    "        shell_command = f'split -l $((($(wc -l < {full_file_path}) + {num_groups} - 1) / {num_groups})) {full_file_path} \"{output_directory}/group_\"'\n",
    "        try:\n",
    "            subprocess.run(shell_command, shell=True, check=True)\n",
    "            print(\"Shell命令执行成功\")\n",
    "        except subprocess.CalledProcessError as e:\n",
    "            print(f\"Shell命令执行失败: {e}\")"
   ]
  },
  {
   "cell_type": "code",
   "execution_count": 7,
   "metadata": {},
   "outputs": [
    {
     "data": {
      "application/vnd.jupyter.widget-view+json": {
       "model_id": "ca20728c5a5a4d0f8a2667a4c66d97fe",
       "version_major": 2,
       "version_minor": 0
      },
      "text/plain": [
       "results/cvc5/QF_S:   0%|          | 0/100 [00:00<?, ?it/s]"
      ]
     },
     "metadata": {},
     "output_type": "display_data"
    },
    {
     "name": "stdout",
     "output_type": "stream",
     "text": [
      "count: 209\n",
      "Shell命令执行成功\n"
     ]
    },
    {
     "data": {
      "application/vnd.jupyter.widget-view+json": {
       "model_id": "5b913e09160a4c1894b8dc300fb27eba",
       "version_major": 2,
       "version_minor": 0
      },
      "text/plain": [
       "results/cvc5/QF_SLIA:   0%|          | 0/100 [00:00<?, ?it/s]"
      ]
     },
     "metadata": {},
     "output_type": "display_data"
    },
    {
     "name": "stdout",
     "output_type": "stream",
     "text": [
      "count: 1383\n",
      "Shell命令执行成功\n"
     ]
    }
   ],
   "source": [
    "str = SMT_test()\n",
    "# str.init_chart('QF_S', 'base.xlsx', 'QF_S.xlsx')\n",
    "# str.init_chart('QF_SLIA', 'base.xlsx', 'QF_SLIA.xlsx')\n",
    "str.get_unknown_path('cvc5', 'QF_S', 50, \"/home/hanrui/\")\n",
    "str.get_unknown_path('cvc5', 'QF_SLIA', 50, \"/home/hanrui/\")"
   ]
  }
 ],
 "metadata": {
  "kernelspec": {
   "display_name": "base",
   "language": "python",
   "name": "python3"
  },
  "language_info": {
   "codemirror_mode": {
    "name": "ipython",
    "version": 3
   },
   "file_extension": ".py",
   "mimetype": "text/x-python",
   "name": "python",
   "nbconvert_exporter": "python",
   "pygments_lexer": "ipython3",
   "version": "3.9.15"
  },
  "orig_nbformat": 4
 },
 "nbformat": 4,
 "nbformat_minor": 2
}
